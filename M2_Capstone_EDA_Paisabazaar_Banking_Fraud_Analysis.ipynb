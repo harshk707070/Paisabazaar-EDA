{
  "cells": [
    {
      "cell_type": "markdown",
      "metadata": {
        "id": "vncDsAP0Gaoa"
      },
      "source": [
        "# **Project Name**    -  **Paisabazaar Banking Fraud Analysis**\n",
        "\n"
      ]
    },
    {
      "cell_type": "markdown",
      "metadata": {
        "id": "beRrZCGUAJYm"
      },
      "source": [
        "##### **Project Type**    - EDA\n",
        "##### **Contribution**    - Individual\n"
      ]
    },
    {
      "cell_type": "markdown",
      "source": [
        "# **Project Summary -**"
      ],
      "metadata": {
        "id": "qFJb1CYe3VMB"
      }
    },
    {
      "cell_type": "markdown",
      "source": [
        "Data Preprocessing :\n",
        "\n",
        "- Importing libraries\n",
        "- Loading dataset\n",
        "- Checking dataset shape, info & duplicates\n",
        "- Handling missing values\n",
        "- Removing irrelevant columns\n",
        "- Removing outliers (Annual_Income – IQR method)\n",
        "- Data type conversion\n",
        "- Feature engineering: Debt-to-Income Ratio, Income Bracket\n",
        "\n",
        "\n",
        "Exploratory Data Analysis (EDA) :\n",
        "\n",
        "- Univariate analysis (credit score, age, income, debt, utilization, etc.)\n",
        "- Bivariate analysis (credit score vs. income, debt, loan types, etc.)\n",
        "- Multivariate analysis (combined influence of multiple variables)\n",
        "- Correlation analysis\n",
        "\n",
        "Visualisation :\n",
        "\n",
        "- Histograms, boxplots, countplots, scatterplots, and heatmaps for pattern detection and insights"
      ],
      "metadata": {
        "id": "9ucdruHY3Wyx"
      }
    },
    {
      "cell_type": "markdown",
      "source": [
        "# **GitHub Link -**"
      ],
      "metadata": {
        "id": "F4i6mnnO3F0h"
      }
    },
    {
      "cell_type": "markdown",
      "source": [
        "abcsdsgshjsksksks"
      ],
      "metadata": {
        "id": "p1QL5r5k3IB3"
      }
    },
    {
      "cell_type": "markdown",
      "metadata": {
        "id": "yQaldy8SH6Dl"
      },
      "source": [
        "# **Problem Statement**\n"
      ]
    },
    {
      "cell_type": "markdown",
      "metadata": {
        "id": "DpeJGUA3kjGy"
      },
      "source": [
        "**BUSINESS PROBLEM OVERVIEW**\n",
        "\n",
        "\n",
        "Understanding and predicting an individual's credit score is critical for financial service providers like Paisabazaar, as it directly impacts loan approvals, product recommendations, and risk management.\n",
        "\n",
        "In today’s competitive financial ecosystem, institutions are increasingly relying on creditworthiness metrics to offer personalized and responsible lending products. A misjudged credit profile can either lead to risky lending or missed business opportunities. Therefore, building accurate, data-driven insights into customer credit behavior is essential.\n",
        "\n",
        "For Paisabazaar, the goal is not just to offer financial products — but to match the right product to the right person at the right time. This can only happen if credit scoring is robust, explainable, and rooted in behavioral patterns.\n",
        "\n",
        "In this project, we will analyze customer-level data to:\n",
        "\n",
        "- Perform exploratory data analysis (EDA) on key financial features\n",
        "- Understand patterns in income, debt, credit usage, and payment behavior\n",
        "- Identify the key drivers of low, average, and good credit scores\n",
        "- Help Paisabazaar enhance its credit assessment pipeline and improve risk stratification for better lending decisions."
      ]
    },
    {
      "cell_type": "markdown",
      "metadata": {
        "id": "PH-0ReGfmX4f"
      },
      "source": [
        "#### **Define Your Business Objective?**"
      ]
    },
    {
      "cell_type": "markdown",
      "metadata": {
        "id": "PhDvGCAqmjP1"
      },
      "source": [
        "The main business objective is to help Paisabazaar improve how it checks customer credit scores by using data like income, expenses, loans, and payment habits. This will make financial decisions smarter, quicker, and more personalized. The key goals are:\n",
        "\n",
        "- **Better Credit Risk Management:**\n",
        "\n",
        "  Predict credit scores more accurately to spot risky customers early. This helps avoid giving loans to people who may not pay them back, reducing financial losses.\n",
        "\n",
        "- **Personalized Financial Suggestions:**\n",
        "  \n",
        "  Use the predicted credit scores to recommend the right products—like loans, credit cards, or insurance—based on each customer’s financial situation.\n",
        "\n",
        "- **Faster Loan Approvals:**\n",
        "  \n",
        "  Make the loan process quicker by using models that automatically predict credit scores. This reduces waiting time and speeds up decisions.\n",
        "\n",
        "- **Customers satisfaction:**\n",
        "  \n",
        "  Give customers useful advice and suggestions based on their data. This helps build trust and keeps them engaged with Paisabazaar for the long run."
      ]
    },
    {
      "cell_type": "markdown",
      "metadata": {
        "id": "mDgbUHAGgjLW"
      },
      "source": [
        "# **General Guidelines** : -  "
      ]
    },
    {
      "cell_type": "markdown",
      "metadata": {
        "id": "ZrxVaUj-hHfC"
      },
      "source": [
        "1.   Well-structured, formatted, and commented code is required.\n",
        "2.   Exception Handling, Production Grade Code & Deployment Ready Code will be a plus. Those students will be awarded some additional credits.\n",
        "     \n",
        "     The additional credits will have advantages over other students during Star Student selection.\n",
        "       \n",
        "             [ Note: - Deployment Ready Code is defined as, the whole .ipynb notebook should be executable in one go\n",
        "                       without a single error logged. ]\n",
        "\n",
        "3.   Each and every logic should have proper comments.\n",
        "4. You may add as many number of charts you want. Make Sure for each and every chart the following format should be answered.\n",
        "        \n",
        "\n",
        "```\n",
        "# Chart visualization code\n",
        "```\n",
        "            \n",
        "\n",
        "*   Why did you pick the specific chart?\n",
        "*   What is/are the insight(s) found from the chart?\n",
        "* Will the gained insights help creating a positive business impact?\n",
        "Are there any insights that lead to negative growth? Justify with specific reason.\n",
        "\n",
        "\n",
        "5. You have to create at least 20 logical & meaningful charts having important insights.\n",
        "\n",
        "[ Hints : - Do the Vizualization in  a structured way while following \"UBM\" Rule.\n",
        "\n",
        "U - Univariate Analysis,\n",
        "\n",
        "B - Bivariate Analysis (Numerical - Categorical, Numerical - Numerical, Categorical - Categorical)\n",
        "\n",
        "M - Multivariate Analysis\n",
        " ]\n",
        "\n",
        "\n",
        "\n",
        "\n",
        "\n"
      ]
    },
    {
      "cell_type": "markdown",
      "metadata": {
        "id": "O_i_v8NEhb9l"
      },
      "source": [
        "# ***Let's Begin !***"
      ]
    },
    {
      "cell_type": "markdown",
      "metadata": {
        "id": "HhfV-JJviCcP"
      },
      "source": [
        "## ***1. Know Your Data***"
      ]
    },
    {
      "cell_type": "markdown",
      "metadata": {
        "id": "Y3lxredqlCYt"
      },
      "source": [
        "### **Import Libraries**"
      ]
    },
    {
      "cell_type": "code",
      "execution_count": null,
      "metadata": {
        "id": "jHdRX_4VtwTO"
      },
      "outputs": [],
      "source": [
        "# Install and Import Required Libraries\n",
        "\n",
        "!pip install pandas numpy matplotlib seaborn pymysql sqlalchemy --quiet\n",
        "\n",
        "import numpy as np\n",
        "import pandas as pd\n",
        "import matplotlib.pyplot as plt\n",
        "import seaborn as sns\n",
        "\n",
        "%matplotlib inline\n",
        "\n",
        "sns.set_style(\"whitegrid\")\n",
        "sns.set_palette(\"Set2\")\n",
        "\n",
        "# Suppresses warning\n",
        "import warnings\n",
        "warnings.filterwarnings('ignore')"
      ]
    },
    {
      "cell_type": "markdown",
      "metadata": {
        "id": "3RnN4peoiCZX"
      },
      "source": [
        "### **Dataset Loading**"
      ]
    },
    {
      "cell_type": "code",
      "execution_count": null,
      "metadata": {
        "id": "r0wS1ZjUWxn-"
      },
      "outputs": [],
      "source": [
        "# Loading Dataset\n",
        "data = pd.read_csv('/content/paisabazaar_dataset .csv')"
      ]
    },
    {
      "cell_type": "markdown",
      "metadata": {
        "id": "x71ZqKXriCWQ"
      },
      "source": [
        "### **Dataset First View**"
      ]
    },
    {
      "cell_type": "code",
      "execution_count": null,
      "metadata": {
        "id": "LWNFOSvLl09H"
      },
      "outputs": [],
      "source": [
        "# Display the first 5 records\n",
        "data.head()"
      ]
    },
    {
      "cell_type": "markdown",
      "metadata": {
        "id": "7hBIi_osiCS2"
      },
      "source": [
        "### **Dataset Rows & Columns count**"
      ]
    },
    {
      "cell_type": "code",
      "execution_count": null,
      "metadata": {
        "id": "Kllu7SJgmLij"
      },
      "outputs": [],
      "source": [
        "# Dataset Rows & Columns\n",
        "# data.shape - gives no. of rows and columns\n",
        "\n",
        "print(f'Number of Rows: {data.shape[0]}')\n",
        "print(f'Number of Columns: {data.shape[1]}')"
      ]
    },
    {
      "cell_type": "markdown",
      "metadata": {
        "id": "JlHwYmJAmNHm"
      },
      "source": [
        "### **Dataset Information**"
      ]
    },
    {
      "cell_type": "code",
      "execution_count": null,
      "metadata": {
        "id": "e9hRXRi6meOf"
      },
      "outputs": [],
      "source": [
        "# Dataset Info\n",
        "data.info()"
      ]
    },
    {
      "cell_type": "markdown",
      "metadata": {
        "id": "35m5QtbWiB9F"
      },
      "source": [
        "#### **Duplicate Values**"
      ]
    },
    {
      "cell_type": "code",
      "execution_count": null,
      "metadata": {
        "id": "1sLdpKYkmox0"
      },
      "outputs": [],
      "source": [
        "# Count of duplicated rows\n",
        "\n",
        "duplicate_count = data.duplicated().sum()\n",
        "print(\"Number of duplicate rows:\", duplicate_count)"
      ]
    },
    {
      "cell_type": "markdown",
      "metadata": {
        "id": "7TR4hZX5o0Dz"
      },
      "source": [
        "- There are **no duplicate rows** in the dataset. Each record is unique.\n",
        "\n",
        "- So we don’t need to drop any entries."
      ]
    },
    {
      "cell_type": "markdown",
      "metadata": {
        "id": "PoPl-ycgm1ru"
      },
      "source": [
        "#### Missing Values/Null Values"
      ]
    },
    {
      "cell_type": "code",
      "execution_count": null,
      "metadata": {
        "id": "GgHWkxvamxVg"
      },
      "outputs": [],
      "source": [
        "# Missing Values/Null Values Count\n",
        "\n",
        "\n",
        "# Check for missing (NaN) values in each column of the dataset\n",
        "# .isnull() returns a boolean DataFrame (True for null values)\n",
        "# .sum() then counts how many nulls are in each column\n",
        "print(\"Missing values in each column:\\n\")\n",
        "data.isnull().sum()"
      ]
    },
    {
      "cell_type": "markdown",
      "metadata": {
        "id": "mzlOCE4BvPWa"
      },
      "source": [
        "- No missing values found in any column.\n",
        "- We don’t need to fill or drop any data due to nulls."
      ]
    },
    {
      "cell_type": "code",
      "execution_count": null,
      "metadata": {
        "id": "3q5wnI3om9sJ"
      },
      "outputs": [],
      "source": [
        "# Visualizing the missing values\n",
        "# Checking Null Value by plotting Heatmap\n",
        "import matplotlib.pyplot as plt\n",
        "\n",
        "plt.figure(figsize=(14, 6))\n",
        "sns.heatmap(data.isnull(), cbar=False, cmap=\"YlOrRd\", yticklabels=False)\n",
        "plt.title(\"Heatmap of Missing Values\", fontsize=14)\n",
        "plt.show()"
      ]
    },
    {
      "cell_type": "markdown",
      "metadata": {
        "id": "Wl4fW_sUwrAJ"
      },
      "source": [
        "**Yellow cells → Non-Missing Values**\n",
        "\n",
        "**Red cells → Missing values**"
      ]
    },
    {
      "cell_type": "markdown",
      "metadata": {
        "id": "e4_hD15LxBEh"
      },
      "source": [
        "- Most columns have no missing values.\n",
        "\n",
        "- Heatmap shows a clean dataset with nearly complete entries.\n",
        "\n"
      ]
    },
    {
      "cell_type": "markdown",
      "metadata": {
        "id": "H0kj-8xxnORC"
      },
      "source": [
        "### **What did you know about your dataset?**"
      ]
    },
    {
      "cell_type": "markdown",
      "metadata": {
        "id": "gfoNAAC-nUe_"
      },
      "source": [
        "The dataset belongs to the financial services industry, provided by Paisabazaar, and is used to analyze and classify individuals based on their credit scores.\n",
        "\n",
        "The goal is to explore key behavioral and financial indicators like income, debt, payment history, and credit card usage, which influence creditworthiness. This classification supports better loan decisions and reduces financial risk.\n",
        "\n",
        "- The dataset consists of 100,000 rows and 28 columns.\n",
        "\n",
        "- There are no missing values or duplicates.\n",
        "\n",
        "---\n",
        "##### **Customer Information**\n",
        "Categorical:\n",
        "- `Name`: Not useful for modeling\n",
        "- `Occupation`: Important for profiling\n",
        "\n",
        "Numerical:\n",
        "- `Age`: Important feature\n",
        "- `SSN`: Sensitive ID, to be dropped\n",
        "---\n",
        "##### **Financial Attributes**\n",
        "Numerical:\n",
        "\n",
        "- `Annual_Income`: Key for affordability\n",
        "- `Monthly_Inhand_Salary`: Derived from income\n",
        "- `Num_Bank_Accounts`: Indicator of financial behavior\n",
        "- `Num_Credit_Card`: Reflects credit usage\n",
        "- `Num_of_Loan`: Loan load\n",
        "- `Interest_Rate`: Reflects cost of credit\n",
        "---\n",
        "##### **Credit-Related Attributes**\n",
        "Categorical:\n",
        "\n",
        "- `Credit_Mix`: Good / Standard / Bad\n",
        "\n",
        "Numerical:\n",
        "\n",
        "- `Outstanding_Debt`: Key debt signal\n",
        "- `Credit_Utilization_Ratio`: Core credit behavior metric\n",
        "- `Credit_History_Age`: More = better\n",
        "- `Changed_Credit_Limit`: Reflects financial changes\n",
        "- `Total_EMI_per_month`: Ongoing liabilities\n",
        "- `Amount_invested_monthly`: Saving habit proxy\n",
        "- `Monthly_Balance`: Post-expense leftover\n",
        "---\n",
        "##### **Behavioral Metrics**\n",
        "Categorical:\n",
        "\n",
        "- `Payment_Behaviour`: Spending + payment pattern\n",
        "- `Payment_of_Min_Amount`: Yes / No — late payment flag\n",
        "- `Type_of_Loan`: Multi-type; will need to split\n",
        "\n",
        "Numerical:\n",
        "\n",
        "- `Num_of_Delayed_Payment`: Bad habit indicator\n",
        "- `Delay_from_due_date`: Tracks lateness\n",
        "- `Num_Credit_Inquiries`: Higher = risky behavior\n",
        "---\n",
        "##### **Target Variable**\n",
        "\n",
        "Categorical:\n",
        "\n",
        "- `Credit_Score`: Final label — Good, Standard, Poor\n",
        "---\n",
        "\n",
        "##### **Non-Useful Columns (To Drop or Review):**\n",
        "\n",
        "- `ID: Row index` — drop\n",
        "- `Customer_ID`: Redundant — drop\n",
        "- `Month`: Time signal (could be used for trends)"
      ]
    },
    {
      "cell_type": "markdown",
      "metadata": {
        "id": "nA9Y7ga8ng1Z"
      },
      "source": [
        "## ***2. Understanding Your Variables***"
      ]
    },
    {
      "cell_type": "code",
      "execution_count": null,
      "metadata": {
        "id": "n87BaXA_42-R"
      },
      "outputs": [],
      "source": [
        "# Dataset Columns\n",
        "data.columns"
      ]
    },
    {
      "cell_type": "code",
      "execution_count": null,
      "metadata": {
        "id": "DnOaZdaE5Q5t"
      },
      "outputs": [],
      "source": [
        "# Dataset Describe\n",
        "data.describe(include='all')"
      ]
    },
    {
      "cell_type": "code",
      "execution_count": null,
      "metadata": {
        "id": "bzwTurzb8lKW"
      },
      "outputs": [],
      "source": [
        "# Target variable\n",
        "data['Credit_Score'].value_counts()"
      ]
    },
    {
      "cell_type": "markdown",
      "metadata": {
        "id": "PBTbrJXOngz2"
      },
      "source": [
        "### Variables Description"
      ]
    },
    {
      "cell_type": "markdown",
      "metadata": {
        "id": "aJV4KIxSnxay"
      },
      "source": [
        "- **ID**: Unique row identifier (not needed for analysis)\n",
        "\n",
        "- **Customer_ID**: Unique identifier for each customer\n",
        "\n",
        "- **Month**: Month number of the transaction/data record\n",
        "\n",
        "- **Name**: Customer name (personal information – should be removed)\n",
        "\n",
        "- **Age**: Age of the customer in years\n",
        "\n",
        "- **SSN**: Social Security Number (personal information – should be removed)\n",
        "\n",
        "- **Occupation**: Customer’s profession or job role\n",
        "\n",
        "- **Annual_Income**: Yearly income of the customer\n",
        "\n",
        "- **Monthly_Inhand_Salary**: Take-home salary per month\n",
        "\n",
        "- **Num_Bank_Accounts**: Number of bank accounts owned\n",
        "\n",
        "- **Num_Credit_Card**: Number of credit cards owned\n",
        "\n",
        "- **Interest_Rate**: Average interest rate across all loans/credit products\n",
        "\n",
        "- **Num_of_Loan**: Total number of loans taken\n",
        "\n",
        "- **Type_of_Loan**: Types of loans (stored as text — could be multiple types per entry)\n",
        "\n",
        "- **Delay_from_due_date**: Average number of days a payment is delayed\n",
        "\n",
        "- **Num_of_Delayed_Payment**: Total number of delayed payments\n",
        "\n",
        "- **Changed_Credit_Limit**: Change in the customer’s credit limit\n",
        "\n",
        "- **Num_Credit_Inquiries**: Number of times credit was checked (hard inquiries)\n",
        "\n",
        "- **Credit_Mix**: Type of credit profile (e.g., Good, Standard, Bad)\n",
        "\n",
        "- **Outstanding_Debt**: Total amount of unpaid debt\n",
        "\n",
        "- **Credit_Utilization_Ratio**: Percentage of available credit being used\n",
        "\n",
        "- **Credit_History_Age**: Duration of customer’s credit history (in months)\n",
        "\n",
        "- **Payment_of_Min_Amount**: Whether the minimum payment was made (Yes/No)\n",
        "\n",
        "- **Total_EMI_per_month**: Total monthly EMI payments\n",
        "\n",
        "- **Amount_invested_monthly**: Amount invested by the customer every month\n",
        "\n",
        "- **Payment_Behaviour**: Describes customer’s spending/payment pattern\n",
        "\n",
        "- **Monthly_Balance**: Remaining monthly balance after expenses\n",
        "\n",
        "- **Credit_Score**: Target variable – customer’s credit rating (Good, Standard, or Poor)"
      ]
    },
    {
      "cell_type": "markdown",
      "metadata": {
        "id": "u3PMJOP6ngxN"
      },
      "source": [
        "### Check Unique Values for each variable."
      ]
    },
    {
      "cell_type": "code",
      "execution_count": null,
      "metadata": {
        "id": "zms12Yq5n-jE"
      },
      "outputs": [],
      "source": [
        "# Checking Unique Values for each variable in the credit dataset\n",
        "\n",
        "for col in data.columns:\n",
        "    print(f\"Unique values in '{col}' : {data[col].nunique()}.\")"
      ]
    },
    {
      "cell_type": "markdown",
      "metadata": {
        "id": "dauF4eBmngu3"
      },
      "source": [
        "## 3. ***Data Wrangling***"
      ]
    },
    {
      "cell_type": "markdown",
      "metadata": {
        "id": "bKJF3rekwFvQ"
      },
      "source": [
        "### Data Wrangling Code"
      ]
    },
    {
      "cell_type": "code",
      "execution_count": null,
      "metadata": {
        "id": "wk-9a2fpoLcV"
      },
      "outputs": [],
      "source": [
        "# Creating a copy of the current dataset and assigning to df\n",
        "df=data.copy()"
      ]
    },
    {
      "cell_type": "code",
      "execution_count": null,
      "metadata": {
        "id": "PaPWuHPHbnEw"
      },
      "outputs": [],
      "source": [
        "# Check the data types of each column\n",
        "print(df.dtypes)"
      ]
    },
    {
      "cell_type": "code",
      "execution_count": null,
      "metadata": {
        "id": "NrK899PLgN2o"
      },
      "outputs": [],
      "source": [
        "# Dropping irrelevant columns\n",
        "\n",
        "df.drop(['ID', 'Customer_ID', 'Name', 'SSN', 'Month'], axis=1, inplace=True)"
      ]
    },
    {
      "cell_type": "code",
      "execution_count": null,
      "metadata": {
        "id": "FlfeoxMq-lrx"
      },
      "outputs": [],
      "source": [
        "# Converting data type of Monthly_Balance to numeric\n",
        "\n",
        "data['Monthly_Balance'] = pd.to_numeric(data['Monthly_Balance'], errors='coerce')"
      ]
    },
    {
      "cell_type": "code",
      "execution_count": null,
      "metadata": {
        "id": "W7e8vjdCJMzg"
      },
      "outputs": [],
      "source": [
        "# List of important categorical columns\n",
        "\n",
        "categorical_cols = [\n",
        "    'Credit_Mix',\n",
        "    'Payment_of_Min_Amount',\n",
        "    'Payment_Behaviour',\n",
        "    'Credit_Score'\n",
        "]\n",
        "\n",
        "for col in categorical_cols:\n",
        "    print(\"-------------------------------------\")\n",
        "    print(df[col].value_counts(dropna=False))\n",
        "    print(\"-------------------------------------\")"
      ]
    },
    {
      "cell_type": "code",
      "execution_count": null,
      "metadata": {
        "id": "t9qYRB4PbpWx"
      },
      "outputs": [],
      "source": [
        "# Replacing 'NM' with 'No' in 'Payment_of_Min_Amount'\n",
        "\n",
        "df['Payment_of_Min_Amount'] = df['Payment_of_Min_Amount'].replace('NM', 'No')"
      ]
    },
    {
      "cell_type": "markdown",
      "metadata": {
        "id": "flb9HqIokUX3"
      },
      "source": [
        "- Payment_of_Min_Amount\n",
        "\n",
        "  Values: ['No', 'NM', 'Yes']\n",
        "  * Treating \"NM\" as \"No\""
      ]
    },
    {
      "cell_type": "code",
      "execution_count": null,
      "metadata": {
        "id": "3SY5U0CklDsf"
      },
      "outputs": [],
      "source": [
        "# after replacing 'NM' with 'No', let's check the unique values again\n",
        "# List of important categorical columns\n",
        "\n",
        "print(\"Cleaned unique values in 'Payment_of_Min_Amount':\")\n",
        "print(df['Payment_of_Min_Amount'].unique())\n",
        "df['Payment_of_Min_Amount'].value_counts(dropna=False)"
      ]
    },
    {
      "cell_type": "code",
      "execution_count": null,
      "metadata": {
        "id": "c7oc-9h4bpUb"
      },
      "outputs": [],
      "source": [
        "# Stripping extra spaces in categorical columns\n",
        "# to avoid errors while analysis\n",
        "\n",
        "cat_cols = df.select_dtypes(include='object').columns\n",
        "for col in cat_cols:\n",
        "    df[col] = df[col].str.strip()"
      ]
    },
    {
      "cell_type": "code",
      "execution_count": null,
      "metadata": {
        "id": "kvLVN_t-bpSF"
      },
      "outputs": [],
      "source": [
        "# To check different types of loan taken by customers\n",
        "\n",
        "df['Type_of_Loan'].value_counts().head(10)"
      ]
    },
    {
      "cell_type": "code",
      "execution_count": null,
      "metadata": {
        "id": "kqdh9KYhnZ4s"
      },
      "outputs": [],
      "source": [
        "# Creating a new feature that counts how many loan types each customer has\n",
        "# Checking how many customers fall into each count of loan types\n",
        "\n",
        "df['Num_Loan_Types'] = df['Type_of_Loan'].apply(lambda x: len(str(x).replace(' and', ',').split(',')))\n",
        "df['Num_Loan_Types'].value_counts().sort_index()"
      ]
    },
    {
      "cell_type": "markdown",
      "metadata": {
        "id": "qmtyUEeCoQ0-"
      },
      "source": [
        "- Most people have 1 loan — simple portfolios.\n",
        "\n",
        "- But a large chunk has 3–5 loans\n",
        "\n",
        "- Some have 7–10 loans — more credit dependent."
      ]
    },
    {
      "cell_type": "code",
      "execution_count": null,
      "metadata": {
        "id": "vdYoQbT53QMD"
      },
      "outputs": [],
      "source": [
        "# Check for outliers in key numerical columns:\n",
        "\n",
        "print(df[['Annual_Income', 'Credit_Utilization_Ratio', 'Monthly_Inhand_Salary', 'Outstanding_Debt']].describe())"
      ]
    },
    {
      "cell_type": "code",
      "execution_count": null,
      "metadata": {
        "id": "9TVoCTh6SlNC"
      },
      "outputs": [],
      "source": [
        "# To check outliers in Annual Income\n",
        "\n",
        "sns.boxplot(x=data['Annual_Income'])\n",
        "plt.title(\"Boxplot - Annual Income\")"
      ]
    },
    {
      "cell_type": "code",
      "execution_count": null,
      "metadata": {
        "id": "dS9ZGk3MTaqR"
      },
      "outputs": [],
      "source": [
        "# Use IQR method to remove outliers\n",
        "Q1 = data['Annual_Income'].quantile(0.25)\n",
        "Q3 = data['Annual_Income'].quantile(0.75)\n",
        "IQR = Q3 - Q1\n",
        "\n",
        "lower_bound = Q1 - 1.5 * IQR\n",
        "upper_bound = Q3 + 1.5 * IQR\n",
        "\n",
        "data = data[(data['Annual_Income'] >= lower_bound) & (data['Annual_Income'] <= upper_bound)]"
      ]
    },
    {
      "cell_type": "code",
      "execution_count": null,
      "metadata": {
        "id": "VQlYjnH_Tmqd"
      },
      "outputs": [],
      "source": [
        "# After removing outliers\n",
        "sns.boxplot(x=data['Annual_Income'])\n",
        "plt.title(\"Boxplot - Annual Income\")"
      ]
    },
    {
      "cell_type": "markdown",
      "metadata": {
        "id": "hWE2URhIFOWo"
      },
      "source": [
        " Visual Differences:\n",
        "- Right-side \"whisker\" shortened → The extreme values (high-income outliers > upper bound) are gone.\n",
        "\n",
        "- No outlier dots → Indicates all values are now within the acceptable range.\n",
        "\n",
        "- Box appears tighter → Better focus on the core 50% of data (Q1 to Q3)."
      ]
    },
    {
      "cell_type": "code",
      "execution_count": null,
      "metadata": {
        "id": "YE0QxYO6UEIt"
      },
      "outputs": [],
      "source": [
        "# Creating Debt-to-Income Ratio\n",
        "\n",
        "data['Debt_to_Income_Ratio'] = data['Outstanding_Debt'] / data['Annual_Income']"
      ]
    },
    {
      "cell_type": "code",
      "execution_count": null,
      "metadata": {
        "id": "JqhLuGS5VBtr"
      },
      "outputs": [],
      "source": [
        "# Categorize Income into Brackets\n",
        "\n",
        "df['Income_Bracket'] = pd.cut(df['Annual_Income'],\n",
        "                                   bins=[0, 20000, 50000, 100000],\n",
        "                                   labels=['Low', 'Medium', 'High'])"
      ]
    },
    {
      "cell_type": "code",
      "execution_count": null,
      "metadata": {
        "id": "1WlgD9d-bpKQ"
      },
      "outputs": [],
      "source": [
        "print(\"Final Data Shape after improvements:\\n\", df.shape)\n",
        "print(\"\\nData Types:\\n\")\n",
        "print(df.dtypes)"
      ]
    },
    {
      "cell_type": "markdown",
      "metadata": {
        "id": "MSa1f5Uengrz"
      },
      "source": [
        "### **What all manipulations have you done and insights you found?**"
      ]
    },
    {
      "cell_type": "markdown",
      "metadata": {
        "id": "l7Sf9RblRrPD"
      },
      "source": [
        "\n",
        "### Data Manipulations:\n",
        "\n",
        "1. **Removed Irrelevant Columns**: Dropped unnecessary columns such as customer identifiers and unrelated attributes to focus on relevant financial and behavioral features.\n",
        "\n",
        "2. **Outlier Removal**: Filtered out extreme values in the **Annual_Income** column using the Interquartile Range (IQR) method. This step ensures that outliers do not skew the analysis.\n",
        "\n",
        "3. **Data Type Conversion**: Converted the **Monthly_Balance** column to a numeric type, ensuring that calculations involving this column can be performed accurately.\n",
        "\n",
        "4. **Calculated Debt-to-Income Ratio**: Introduced a new metric, **Debt_to_Income_Ratio**, which shows the proportion of a customer’s income that goes towards paying debt. This is an important measure of creditworthiness.\n",
        "\n",
        "5. **Created Income Bracket**: Categorized customers' **Annual_Income** into three brackets (Low, Medium, High) to facilitate segmentation and targeted analysis.\n",
        "\n",
        "### Insights Found:\n",
        "\n",
        "- **Outlier Management**: Removing outliers allows for a more accurate representation of customer income, leading to more reliable insights.\n",
        "\n",
        "- **Debt-to-Income Ratio**: This new metric provides a clearer understanding of customers' financial health, indicating potential credit risks.\n",
        "\n",
        "- **Income Segmentation**: The creation of income brackets enables targeted analysis, making it easier to tailor financial product recommendations based on income levels.\n",
        "\n",
        "- **Improved Data Quality**: Addressing missing values and ensuring appropriate data types enhances the reliability of the dataset for predictivd on financial attributes."
      ]
    },
    {
      "cell_type": "markdown",
      "metadata": {
        "id": "GF8Ens_Soomf"
      },
      "source": [
        "## 4. **Data Vizualization Storytelling & Experimenting with charts:** **Understand the relationships between variables**"
      ]
    },
    {
      "cell_type": "markdown",
      "metadata": {
        "id": "xRav2srsZF6S"
      },
      "source": [
        "## **Univariate Analysis**"
      ]
    },
    {
      "cell_type": "markdown",
      "metadata": {
        "id": "0wOQAZs5pc--"
      },
      "source": [
        "#### Chart 1: **Credit Score Distribution**"
      ]
    },
    {
      "cell_type": "code",
      "execution_count": null,
      "metadata": {
        "id": "7v_ESjsspbW7"
      },
      "outputs": [],
      "source": [
        "# Chart - 1: Credit Score Distribution\n",
        "fig, ax = plt.subplots(figsize=(10, 6))\n",
        "\n",
        "sns.countplot(x='Credit_Score', data=df, palette='Set2', ax=ax)\n",
        "\n",
        "ax.set_title('Credit Score Distribution', fontsize=16, fontweight='bold')\n",
        "ax.set_ylabel('Count')\n",
        "ax.set_xlabel('Credit Score')\n",
        "\n",
        "plt.tight_layout()\n",
        "plt.show()"
      ]
    },
    {
      "cell_type": "markdown",
      "metadata": {
        "id": "K5QZ13OEpz2H"
      },
      "source": [
        "##### 1. Why did you pick the specific chart?"
      ]
    },
    {
      "cell_type": "markdown",
      "metadata": {
        "id": "XESiWehPqBRc"
      },
      "source": [
        "A countplot was chosen to visualize the frequency of each credit score category in the dataset (to see how many people fall into each credit score group (Good, Standard, Poor)). This helps us understand which group is the biggest and where the company should focus more attention. This is essential for designing segment-specific strategies."
      ]
    },
    {
      "cell_type": "markdown",
      "metadata": {
        "id": "lQ7QKXXCp7Bj"
      },
      "source": [
        "##### 2. What is/are the insight(s) found from the chart?"
      ]
    },
    {
      "cell_type": "markdown",
      "metadata": {
        "id": "WjtjFXXoFOWr"
      },
      "source": [
        "- Most customers have a Standard credit score — they’re neither great nor risky, but in the middle.\n",
        "- A good number of users have Poor scores — this is a red flag for repayment risk.\n",
        "- Only a small group has a Good credit score — the ideal customers."
      ]
    },
    {
      "cell_type": "markdown",
      "metadata": {
        "id": "448CDAPjqfQr"
      },
      "source": [
        "##### 3. Will the gained insights help creating a positive business impact?\n",
        "Are there any insights that lead to negative growth? Justify with specific reason."
      ]
    },
    {
      "cell_type": "markdown",
      "metadata": {
        "id": "3cspy4FjqxJW"
      },
      "source": [
        "Positive Impact:\n",
        "\n",
        "- Standard group is a big opportunity — with the right products (like credit-building loans), they could move to the Good category.\n",
        "- Poor score customers can be offered risk-managed products or guided through financial coaching.\n",
        "\n",
        "Negative Insight:\n",
        "\n",
        "- A large portion in the Standard and Poor categories suggests potential risk exposure, if left unaddressed, it may lead to higher defaults and impact profitability."
      ]
    },
    {
      "cell_type": "markdown",
      "metadata": {
        "id": "xJivPyE8q_2k"
      },
      "source": [
        "#### Chart 2: **Age distribution**"
      ]
    },
    {
      "cell_type": "code",
      "execution_count": null,
      "metadata": {
        "id": "NTkxmIkWq_20"
      },
      "outputs": [],
      "source": [
        "# Chart - 2: Age Distribution\n",
        "fig, ax = plt.subplots(figsize=(10, 6))\n",
        "\n",
        "sns.histplot(x='Age', data=df, kde=True, bins=30, color='#0066FF', ax=ax)\n",
        "\n",
        "ax.set_title('Age Distribution', fontsize=16, fontweight='bold')\n",
        "ax.set_xlabel('Age')\n",
        "ax.set_ylabel('Frequency')\n",
        "\n",
        "plt.tight_layout()\n",
        "plt.show()"
      ]
    },
    {
      "cell_type": "markdown",
      "metadata": {
        "id": "azX1PEddq_20"
      },
      "source": [
        "##### 1. Why did you pick the specific chart?"
      ]
    },
    {
      "cell_type": "markdown",
      "metadata": {
        "id": "QTXVnJ-fq_20"
      },
      "source": [
        "We used a histogram with a trend line to see which age groups are most common among customers. It helps us identify who our core audience is, and where we may need better engagement."
      ]
    },
    {
      "cell_type": "markdown",
      "metadata": {
        "id": "iyKleWeyq_20"
      },
      "source": [
        "##### 2. What is/are the insight(s) found from the chart?"
      ]
    },
    {
      "cell_type": "markdown",
      "metadata": {
        "id": "DwesNe8zq_21"
      },
      "source": [
        "- Most customers are between 30 and 40 years old — this is the most active segment.\n",
        "- Fewer users are under 25 or over 50 — engagement is low in younger and older age groups.\n",
        "- A small rise around age 50 suggests some renewed interest from older individuals."
      ]
    },
    {
      "cell_type": "markdown",
      "metadata": {
        "id": "8-UX51ofq_21"
      },
      "source": [
        "##### 3. Will the gained insights help creating a positive business impact?\n",
        "Are there any insights that lead to negative growth? Justify with specific reason."
      ]
    },
    {
      "cell_type": "markdown",
      "metadata": {
        "id": "nW7-bqD0q_21"
      },
      "source": [
        "Positive Impact:\n",
        "\n",
        "- Marketing and product design can focus on the 30–40 age group, as they’re the primary audience.\n",
        "- Retirement-focused products or wealth-building tools may work well for those around 50.\n",
        "\n",
        "Negative Insight:\n",
        "\n",
        "- The low engagement from younger users (<25) might indicate a missed opportunity , they could be future long-term customers if onboarded early with beginner-friendly financial tools."
      ]
    },
    {
      "cell_type": "markdown",
      "metadata": {
        "id": "Of3PJYNbrGff"
      },
      "source": [
        "#### Chart - 3 **Income Distrubution**"
      ]
    },
    {
      "cell_type": "code",
      "execution_count": null,
      "metadata": {
        "id": "tnFltgWlrGfg"
      },
      "outputs": [],
      "source": [
        "# Chart - 3: Annual Income and Monthly In-hand Salary Distribution\n",
        "fig, ax = plt.subplots(1, 2, figsize=(18, 6))\n",
        "\n",
        "variables = ['Annual_Income', 'Monthly_Inhand_Salary']\n",
        "titles = ['Annual Income Distribution', 'Monthly In-hand Salary Distribution']\n",
        "\n",
        "for i, var in enumerate(variables):\n",
        "    sns.histplot(data=df, x=var, bins=30, kde=True, color='#0066FF', ax=ax[i])\n",
        "    ax[i].set_title(titles[i], fontsize=16, fontweight='bold')\n",
        "    ax[i].set_xlabel(var.replace('_', ' '))\n",
        "    ax[i].set_ylabel('Frequency')\n",
        "\n",
        "plt.tight_layout()\n",
        "plt.show()"
      ]
    },
    {
      "cell_type": "markdown",
      "metadata": {
        "id": "w8bcvZxarGfg"
      },
      "source": [
        "##### 1. Why did you pick the specific chart?"
      ]
    },
    {
      "cell_type": "markdown",
      "metadata": {
        "id": "9-GBsMEqrGfg"
      },
      "source": [
        "We used histograms to explore how income is distributed across the customer base—both annually and monthly. Understanding income levels helps us design appropriate financial products and assess overall affordability."
      ]
    },
    {
      "cell_type": "markdown",
      "metadata": {
        "id": "HZ6txCBBrGfh"
      },
      "source": [
        "##### 2. What is/are the insight(s) found from the chart?"
      ]
    },
    {
      "cell_type": "markdown",
      "metadata": {
        "id": "zFHHxnuwFOWs"
      },
      "source": [
        "- Most people earn ₹20,000–₹40,000 annually, and ₹2,000–₹4,000 monthly, showing a clear clustering in the lower-income range.\n",
        "- Both charts are right-skewed — fewer people earn high salaries.\n",
        "- The similar shape of both curves shows monthly and annual incomes are consistent, meaning no major reporting or data inconsistencies."
      ]
    },
    {
      "cell_type": "markdown",
      "metadata": {
        "id": "jbkhcZqdrGfh"
      },
      "source": [
        "##### 3. Will the gained insights help creating a positive business impact?\n",
        "Are there any insights that lead to negative growth? Justify with specific reason."
      ]
    },
    {
      "cell_type": "markdown",
      "metadata": {
        "id": "sZjMyjAHrGfh"
      },
      "source": [
        "Positive Impact:\n",
        "\n",
        "- Big opportunity to offer budgeting, micro-loans, or savings products tailored to low/mid-income groups.\n",
        "- Stability between income and salary distributions indicates trustworthy income patterns, useful for credit underwriting.\n",
        "\n",
        "Negative Insight:\n",
        "\n",
        "- High concentration of low-income customers may limit eligibility for premium or high-risk financial products. This may require stricter credit policies or tiered offerings to manage risk effectively."
      ]
    },
    {
      "cell_type": "markdown",
      "metadata": {
        "id": "riLp7y9brHca"
      },
      "source": [
        "#### Chart - 4 **Credit Utilization**"
      ]
    },
    {
      "cell_type": "code",
      "execution_count": null,
      "metadata": {
        "id": "QQ-DWHW5rHca"
      },
      "outputs": [],
      "source": [
        "# Chart - 4: Credit Utilization\n",
        "fig, ax = plt.subplots(1, 1, figsize=(18, 6))\n",
        "\n",
        "sns.boxplot(x='Credit_Utilization_Ratio', data=df, palette='Set2', ax=ax)\n",
        "\n",
        "# Title and axis labels\n",
        "ax.set_title('Credit Utilization Distribution', fontsize=16, fontweight='bold')\n",
        "ax.set_xlabel('Credit Utilization Ratio', fontsize=12)\n",
        "ax.set_ylabel('Value', fontsize=12)\n",
        "\n",
        "plt.tight_layout()\n",
        "plt.show()"
      ]
    },
    {
      "cell_type": "markdown",
      "metadata": {
        "id": "Uw0GT_uHrHcb"
      },
      "source": [
        "##### 1. Why did you pick the specific chart?"
      ]
    },
    {
      "cell_type": "markdown",
      "metadata": {
        "id": "R7c_a-IXrHcb"
      },
      "source": [
        "A boxplot was used to understand how customers are using their available credit — whether they are staying within safe limits or overspending. It also helps detect outliers who may be at risk of financial stress."
      ]
    },
    {
      "cell_type": "markdown",
      "metadata": {
        "id": "qTEiGUKorHcc"
      },
      "source": [
        "##### 2. What is/are the insight(s) found from the chart?"
      ]
    },
    {
      "cell_type": "markdown",
      "metadata": {
        "id": "a3rmtW3vrHcc"
      },
      "source": [
        "- Most users have a credit utilization between ~28% and 35%, which is relatively moderate and stable.\n",
        "- Very few outliers exceed 45–50%, which can signal credit overuse and increased repayment risk."
      ]
    },
    {
      "cell_type": "markdown",
      "metadata": {
        "id": "1Qw8mtL3rHcd"
      },
      "source": [
        "##### 3. Will the gained insights help creating a positive business impact?\n",
        "Are there any insights that lead to negative growth? Justify with specific reason."
      ]
    },
    {
      "cell_type": "markdown",
      "metadata": {
        "id": "t7dguLynrHcd"
      },
      "source": [
        "Positive Impact:\n",
        "\n",
        "- The majority of customers show healthy credit behavior, which lowers default risk and improves underwriting confidence.\n",
        "- Credit monitoring tools or nudges could encourage customers to stay within this safe range.\n",
        "\n",
        "Negative Insight:\n",
        "\n",
        "- The presence of outliers suggests a small but high-risk segment. These users may require close monitoring, financial counseling, or capped product limits to avoid future defaults."
      ]
    },
    {
      "cell_type": "markdown",
      "metadata": {
        "id": "xnMZvg2orIPt"
      },
      "source": [
        "#### Chart - 5 **Distribution Of Interest** Rate"
      ]
    },
    {
      "cell_type": "code",
      "execution_count": null,
      "metadata": {
        "id": "BIKEKoqErIPu"
      },
      "outputs": [],
      "source": [
        "# Chart - 5: Distribution of Interest Rate\n",
        "fig, ax = plt.subplots(figsize=(12, 6))\n",
        "\n",
        "sns.histplot(data=df, x='Interest_Rate', bins=30, kde=True, color='#0066FF', ax=ax)\n",
        "\n",
        "# Title and axis labels\n",
        "ax.set_title('Distribution of Interest Rate', fontsize=16, fontweight='bold')\n",
        "ax.set_xlabel('Interest Rate', fontsize=12)\n",
        "ax.set_ylabel('Frequency', fontsize=12)\n",
        "\n",
        "plt.tight_layout()\n",
        "plt.show()"
      ]
    },
    {
      "cell_type": "markdown",
      "metadata": {
        "id": "mwHQVoIQrIPu"
      },
      "source": [
        "##### 1. Why did you pick the specific chart?"
      ]
    },
    {
      "cell_type": "markdown",
      "metadata": {
        "id": "_OS83_DorIPu"
      },
      "source": [
        "A histogram with a density curve helps us see how loan interest rates are spread across customers. It shows where most loans are priced and whether certain rate bands are more common than others — useful for pricing strategies."
      ]
    },
    {
      "cell_type": "markdown",
      "metadata": {
        "id": "Kwy5hImkrIPu"
      },
      "source": [
        "##### 2. What is/are the insight(s) found from the chart?"
      ]
    },
    {
      "cell_type": "markdown",
      "metadata": {
        "id": "v29pTB30rIPu"
      },
      "source": [
        "- Interest rates are widely spread from 0% to 35%, but not evenly.\n",
        "- There are clear peaks around 5%, 10%, and 20%, showing clustering — likely due to product tiers or risk-based pricing.\n",
        "- A significant chunk of loans still fall in the higher rate range (>20%), which can indicate riskier borrowers or subprime segments."
      ]
    },
    {
      "cell_type": "markdown",
      "metadata": {
        "id": "0sjxqkK0rIPv"
      },
      "source": [
        "##### 3. Will the gained insights help creating a positive business impact?\n",
        "Are there any insights that lead to negative growth? Justify with specific reason."
      ]
    },
    {
      "cell_type": "markdown",
      "metadata": {
        "id": "q3Py5eq2rIPv"
      },
      "source": [
        "Positive Impact:\n",
        "\n",
        "- The clustered peaks can help standardize product pricing — knowing what rates dominate can guide competitive positioning.\n",
        "- Data can be used to analyze customer behavior at different interest tiers (e.g., default rate at 5% vs 20%).\n",
        "\n",
        "Negative Insight:\n",
        "\n",
        "- High number of loans at 20%+ rates could signal exposure to high-risk segments. This may increase churn or defaults if not balanced with proper credit checks and risk controls."
      ]
    },
    {
      "cell_type": "markdown",
      "metadata": {
        "id": "fY9vrZiOjjx4"
      },
      "source": [
        "## **Bivariate Analysis**"
      ]
    },
    {
      "cell_type": "markdown",
      "metadata": {
        "id": "y7avNpR9HL5z"
      },
      "source": [
        "#### Chart - 6 **Age impact on it's Credit Score**"
      ]
    },
    {
      "cell_type": "code",
      "execution_count": null,
      "metadata": {
        "id": "XupyxJMCHL50"
      },
      "outputs": [],
      "source": [
        "# Chart - 6: Age and Credit Score\n",
        "fig, ax = plt.subplots(figsize=(12, 6))\n",
        "\n",
        "sns.boxplot(x='Credit_Score', y='Age', data=df, ax=ax, palette='Set2')\n",
        "\n",
        "ax.set_title('Age and Its Impact on Credit Score', fontsize=16, fontweight='bold')\n",
        "ax.set_xlabel('Credit Score', fontsize=12)\n",
        "ax.set_ylabel('Age', fontsize=12)\n",
        "\n",
        "plt.tight_layout()\n",
        "plt.show()"
      ]
    },
    {
      "cell_type": "markdown",
      "metadata": {
        "id": "aHxXsz33FOWu"
      },
      "source": [
        "##### 1. Why this chart?\n",
        "\n",
        "A boxplot was used to understand if a person’s age affects their credit score. Age is often seen as a proxy for financial maturity or history, so we wanted to test that assumption."
      ]
    },
    {
      "cell_type": "markdown",
      "metadata": {
        "id": "6AaMPnSdFOWv"
      },
      "source": [
        "##### 2. Insight from the chart:\n",
        "\n",
        "- Most customers, regardless of credit score, fall in the age range of 30 to 50 years.\n",
        "- Good credit scorers tend to be slightly older than Standard or Poor groups.\n",
        "- But the overall pattern suggests that age alone doesn't have a strong influence on credit score in this dataset.\n",
        "\n"
      ]
    },
    {
      "cell_type": "markdown",
      "metadata": {
        "id": "-akkOvpgFOWv"
      },
      "source": [
        "3. Business Impact:\n",
        "\n",
        "Positive impact:\n",
        "\n",
        "- Age can support segmentation, but shouldn’t be a standalone factor in credit decisions.\n",
        "- Avoids age bias — ensures models stay compliant and fair while targeting the right customer base.\n",
        "\n",
        "No negative impact observed\n",
        "\n",
        "- Age distribution is fairly balanced, meaning other features likely drive credit score more significantly (e.g., income, repayment behavior)."
      ]
    },
    {
      "cell_type": "markdown",
      "source": [
        "#### Chart - 7 **Income impact on it's Credit Score**\n"
      ],
      "metadata": {
        "id": "uwPu-dvJ7rXD"
      }
    },
    {
      "cell_type": "code",
      "execution_count": null,
      "metadata": {
        "id": "4jD1UybakGdO"
      },
      "outputs": [],
      "source": [
        "# Chart - 7: Income and Credit Score\n",
        "fig, (ax1, ax2) = plt.subplots(1, 2, figsize=(18, 6))\n",
        "\n",
        "sns.violinplot(x='Credit_Score', y='Annual_Income', data=df, ax=ax1, palette='Set2')\n",
        "ax1.set_title('Annual Income vs Credit Score', fontsize=16, fontweight='bold')\n",
        "ax1.set_xlabel('Credit Score')\n",
        "ax1.set_ylabel('Annual Income')\n",
        "\n",
        "sns.violinplot(x='Credit_Score', y='Monthly_Inhand_Salary', data=df, ax=ax2, palette='Set2')\n",
        "ax2.set_title('Monthly In-hand Salary vs Credit Score', fontsize=16, fontweight='bold')\n",
        "ax2.set_xlabel('Credit Score')\n",
        "ax2.set_ylabel('Monthly In-hand Salary')\n",
        "\n",
        "plt.tight_layout()\n",
        "plt.show()"
      ]
    },
    {
      "cell_type": "markdown",
      "metadata": {
        "id": "Z5yPuW4iHL50"
      },
      "source": [
        "##### 1. Why did you pick the specific chart?"
      ]
    },
    {
      "cell_type": "markdown",
      "metadata": {
        "id": "e2Vj3xyvHL50"
      },
      "source": [
        "We used these violin plots to see how income levels, both annual and monthly in-hand, differ across credit score categories. Income is a strong predictor of financial stability, so we wanted to see how it aligns with creditworthiness."
      ]
    },
    {
      "cell_type": "markdown",
      "metadata": {
        "id": "3vIdo55JHL50"
      },
      "source": [
        "##### 2. What is/are the insight(s) found from the chart?"
      ]
    },
    {
      "cell_type": "markdown",
      "metadata": {
        "id": "_TwmLyT0HL51"
      },
      "source": [
        "- People with a Good credit score generally have higher annual income and higher monthly salary.\n",
        "\n",
        "- Those in Standard and especially Poor credit groups tend to earn less annually and monthly.\n",
        "\n",
        "- The spread of income also narrows for lower credit groups, meaning most of them earn below a certain threshold."
      ]
    },
    {
      "cell_type": "markdown",
      "metadata": {
        "id": "IlhlbgNBHL51"
      },
      "source": [
        "##### 3. Will the gained insights help creating a positive business impact?\n",
        "Are there any insights that lead to negative growth? Justify with specific reason."
      ]
    },
    {
      "cell_type": "markdown",
      "metadata": {
        "id": "zecN6W5IHL51"
      },
      "source": [
        "Positives:\n",
        "\n",
        "- Income level is a key driver of credit health. Customers with higher income are more likely to be low-risk borrowers.\n",
        "- Use this to prioritize high-income segments for pre-approved offers, loans, or credit limit enhancements.\n",
        "\n",
        "Risk Warning:\n",
        "\n",
        "- Low-income customers in the poor credit group may need tailored financial support, like budgeting tools, credit counseling, or secured cards."
      ]
    },
    {
      "cell_type": "markdown",
      "metadata": {
        "id": "oQ-pHCWMHO92"
      },
      "source": [
        "#### Chart - 8 **The Relationship Between Income and Payment Delays**"
      ]
    },
    {
      "cell_type": "code",
      "execution_count": null,
      "metadata": {
        "id": "Eb_s6DRSHO92"
      },
      "outputs": [],
      "source": [
        "# Chart 8 - Scatter Plot: Annual Income vs Payment Delays\n",
        "fig, ax = plt.subplots(figsize=(12, 6))\n",
        "\n",
        "sns.scatterplot(x='Annual_Income', y='Delay_from_due_date', data=df, ax=ax, palette='Set2', alpha=0.6)\n",
        "\n",
        "ax.set_title('The Relationship Between Income and Payment Delays', fontsize=16, fontweight='bold')\n",
        "ax.set_xlabel('Annual Income', fontsize=12)\n",
        "ax.set_ylabel('Delay from Due Date (Days)', fontsize=12)\n",
        "\n",
        "plt.tight_layout()\n",
        "plt.show()"
      ]
    },
    {
      "cell_type": "markdown",
      "metadata": {
        "id": "DEMFeE18HO92"
      },
      "source": [
        "##### 1. Why did you pick the specific chart?"
      ]
    },
    {
      "cell_type": "markdown",
      "metadata": {
        "id": "zyFFR4BgHO92"
      },
      "source": [
        "We used this scatter plot to explore whether income levels impact how quickly people pay their dues. Late payments are often red flags in credit behavior, so this chart helps us assess that risk."
      ]
    },
    {
      "cell_type": "markdown",
      "metadata": {
        "id": "MR3eS7xTHO93"
      },
      "source": [
        "##### 2. What is/are the insight(s) found from the chart?"
      ]
    },
    {
      "cell_type": "markdown",
      "metadata": {
        "id": "0neckRpZHO93"
      },
      "source": [
        "- People with lower annual income tend to have more delays in making payments.\n",
        "- However, many customers across all income levels manage to pay within 30 days, which is a good sign.\n",
        "- There are some high-income individuals who also delay payments, showing income isn't the only factor influencing repayment behavior."
      ]
    },
    {
      "cell_type": "markdown",
      "metadata": {
        "id": "JmI1Y4YbHO93"
      },
      "source": [
        "##### 3. Will the gained insights help creating a positive business impact?\n",
        "Are there any insights that lead to negative growth? Justify with specific reason."
      ]
    },
    {
      "cell_type": "markdown",
      "metadata": {
        "id": "OgeOEDgIHO93"
      },
      "source": [
        "Positive Takeaway:\n",
        "\n",
        "- A large chunk of customers, even in the lower income brackets, pay within 30 days. This shows a potential for credit discipline even in financially tighter groups.\n",
        "\n",
        "possible Risk:\n",
        "\n",
        "- Timely payment within 30 days ≠ always creditworthy. Some may still default later or carry revolving debt.\n",
        "\n",
        "- Banks should not rely on income alone. Combine this with behavior tracking (like repeated delays or increasing debt) to assess true credit risk.\n"
      ]
    },
    {
      "cell_type": "markdown",
      "metadata": {
        "id": "U9jYC4YEydL9"
      },
      "source": [
        "#### Chart - 9 **Relationship Between Credit Scores and Bank Account Holdings**"
      ]
    },
    {
      "cell_type": "code",
      "execution_count": null,
      "metadata": {
        "id": "EtABK8HfydL-"
      },
      "outputs": [],
      "source": [
        "# Chart 9 - Boxplot: Credit Scores vs Number of Bank Accounts\n",
        "fig, ax = plt.subplots(figsize=(12, 6))\n",
        "\n",
        "sns.boxplot(x='Credit_Score', y='Num_Bank_Accounts', data=df, ax=ax, palette='Set2')\n",
        "\n",
        "ax.set_title('Understanding the Relationship Between Credit Scores and Bank Account Holdings', fontsize=16, fontweight='bold')\n",
        "ax.set_xlabel('Credit Score', fontsize=12)\n",
        "ax.set_ylabel('Number of Bank Accounts', fontsize=12)\n",
        "\n",
        "plt.tight_layout()\n",
        "plt.show()"
      ]
    },
    {
      "cell_type": "markdown",
      "metadata": {
        "id": "B4XxyvTzHSAZ"
      },
      "source": [
        "##### 1. Why did you pick the specific chart?"
      ]
    },
    {
      "cell_type": "markdown",
      "metadata": {
        "id": "xBXFKddDHSAZ"
      },
      "source": [
        "We wanted to check if the number of bank accounts held by an individual has any pattern or association with their credit score. Multiple accounts could reflect either financial maturity—or mismanagement."
      ]
    },
    {
      "cell_type": "markdown",
      "metadata": {
        "id": "Mal1wQlpHSAZ"
      },
      "source": [
        "##### 2. What is/are the insight(s) found from the chart?"
      ]
    },
    {
      "cell_type": "markdown",
      "metadata": {
        "id": "pxwDuAqQHSAZ"
      },
      "source": [
        "- Customers with Good credit scores typically maintain 2 to 6 accounts, with a median of 4.\n",
        "\n",
        "- Those with Standard scores are slightly more concentrated around 3 to 5 accounts, suggesting stability but less diversification.\n",
        "\n",
        "- Interestingly, Poor credit holders show the widest spread—some have only 2 accounts, others go beyond 6, with the median nudging closer to 6."
      ]
    },
    {
      "cell_type": "markdown",
      "metadata": {
        "id": "BgP_e3WlHSAZ"
      },
      "source": [
        "##### 3. Will the gained insights help creating a positive business impact?\n",
        "Are there any insights that lead to negative growth? Justify with specific reason."
      ]
    },
    {
      "cell_type": "markdown",
      "metadata": {
        "id": "15jESfbyHSAZ"
      },
      "source": [
        "Interpretation:\n",
        "\n",
        "- A higher number of accounts doesn’t always mean better credit. In fact, those with poor scores seem to hold more accounts, which could hint at financial juggling or over-leveraging.\n",
        "\n",
        "- The “sweet spot” of 3–5 accounts appears in both good and standard credit groups, suggesting a healthy balance between access and manageability.\n",
        "\n",
        "Recommendation:\n",
        "\n",
        "- Use account count as one of the auxiliary indicators in credit profiling—especially when flagged with high utilization or frequent fund transfers.\n",
        "\n",
        "- Watch for individuals with high account counts but poor scores, as this might reflect account hopping, missed obligations, or credit dependency."
      ]
    },
    {
      "cell_type": "markdown",
      "metadata": {
        "id": "I3aNiIh9fKqZ"
      },
      "source": [
        "#### Chart - 10 **The Impact of Delayed Payments on Your Credit Score**"
      ]
    },
    {
      "cell_type": "code",
      "execution_count": null,
      "metadata": {
        "id": "WPVINT_UfKqa"
      },
      "outputs": [],
      "source": [
        "# Chart 10 - Boxplot: Delayed Payments vs Credit Score\n",
        "fig, ax = plt.subplots(figsize=(12, 6))\n",
        "\n",
        "sns.boxplot(\n",
        "    x='Credit_Score',\n",
        "    y='Num_of_Delayed_Payment',\n",
        "    data=df,\n",
        "    ax=ax,\n",
        "    palette='Set2'\n",
        ")\n",
        "\n",
        "ax.set_title('The Impact of Delayed Payments on Your Credit Score', fontsize=16, fontweight='bold')\n",
        "ax.set_xlabel('Credit Score', fontsize=12)\n",
        "ax.set_ylabel('Number of Delayed Payments', fontsize=12)\n",
        "\n",
        "plt.tight_layout()\n",
        "plt.show()"
      ]
    },
    {
      "cell_type": "markdown",
      "metadata": {
        "id": "hTF1e9PwfKqa"
      },
      "source": [
        "##### 1. Why did you pick the specific chart?"
      ]
    },
    {
      "cell_type": "markdown",
      "metadata": {
        "id": "XOYaZpKpfKqa"
      },
      "source": [
        "We used this boxplot to quantify the impact of late payments on credit score. Payment behavior is a direct reflection of a customer’s credit reliability."
      ]
    },
    {
      "cell_type": "markdown",
      "metadata": {
        "id": "1xrBLU6IfKqa"
      },
      "source": [
        "##### 2. What is/are the insight(s) found from the chart?"
      ]
    },
    {
      "cell_type": "markdown",
      "metadata": {
        "id": "rrwjuBlHfKqb"
      },
      "source": [
        "- People with Good credit usually have 5–12 delayed payments—relatively fewer and controlled.\n",
        "- Those with Standard scores show moderate delays, typically around 10–17.\n",
        "- Individuals with Poor scores have 15–20+ delayed payments, with some extreme cases beyond that."
      ]
    },
    {
      "cell_type": "markdown",
      "metadata": {
        "id": "yiLHMWFSfKqb"
      },
      "source": [
        "##### 3. Will the gained insights help creating a positive business impact?\n",
        "Are there any insights that lead to negative growth? Justify with specific reason."
      ]
    },
    {
      "cell_type": "markdown",
      "metadata": {
        "id": "7cTtRDwufKqb"
      },
      "source": [
        "Clear Link:\n",
        "\n",
        "- There’s a strong, negative correlation between number of delayed payments and credit score quality.\n",
        "- The more someone delays, the more their credit trust drops—a red flag for financial institutions.\n",
        "\n",
        "\n",
        "Positive Use:\n",
        "\n",
        "- This insight can power a rule-based risk alert system: flag accounts with >12 delays for early intervention.\n",
        "\n",
        "- Can help prioritize collections strategies and automated reminders to reduce payment slippage.\n",
        "\n",
        "\n",
        "Negative Implication:\n",
        "\n",
        "- If such delay patterns are ignored, businesses risk default buildup, affecting loan books and capital recovery."
      ]
    },
    {
      "cell_type": "markdown",
      "metadata": {
        "id": "NC_X3p0fY2L0"
      },
      "source": [
        "#### Chart - 11 **Occupation Distribution Across Credit Scores**"
      ]
    },
    {
      "cell_type": "code",
      "execution_count": null,
      "metadata": {
        "id": "xyC9zolEZNRQ"
      },
      "outputs": [],
      "source": [
        "# Pre-aggregate counts by Occupation and Credit_Score\n",
        "credit_score_counts = df.groupby(['Occupation', 'Credit_Score']).size().reset_index(name='Count')\n",
        "\n",
        "# Chart - 11\n",
        "fig, ax = plt.subplots(figsize=(14, 8))\n",
        "\n",
        "sns.barplot(\n",
        "    x='Count',\n",
        "    y='Occupation',\n",
        "    hue='Credit_Score',\n",
        "    data=credit_score_counts,\n",
        "    ax=ax,\n",
        "    palette='Set2')\n",
        "\n",
        "ax.set_title('Occupation Distribution Across Credit Scores', fontsize=16, fontweight='bold')\n",
        "ax.set_xlabel('Number of Individuals', fontsize=12)\n",
        "ax.set_ylabel('Occupation', fontsize=12)\n",
        "\n",
        "plt.tight_layout()\n",
        "plt.show()"
      ]
    },
    {
      "cell_type": "markdown",
      "metadata": {
        "id": "UV0SzAkaZNRQ"
      },
      "source": [
        "##### 1. Why did you pick the specific chart?"
      ]
    },
    {
      "cell_type": "markdown",
      "metadata": {
        "id": "DVPuT8LYZNRQ"
      },
      "source": [
        "We used a grouped horizontal bar chart to show how different occupational categories are distributed across credit score levels (Good, Standard, Poor).\n",
        "\n",
        "- A bar chart was chosen because it’s ideal for comparing counts across multiple categories — here, occupation types.\n",
        "\n",
        "- The horizontal layout improves readability for longer occupation names, while the grouping by hue (Credit Score) helps spot creditworthiness patterns within each job sector."
      ]
    },
    {
      "cell_type": "markdown",
      "metadata": {
        "id": "YPEH6qLeZNRQ"
      },
      "source": [
        "##### 2. What is/are the insight(s) found from the chart?"
      ]
    },
    {
      "cell_type": "markdown",
      "metadata": {
        "id": "bfSqtnDqZNRR"
      },
      "source": [
        "- Healthcare Practitioners and Support staff make up a large portion of the dataset, mostly in the Standard and Good categories.\n",
        "\n",
        "- Legal and Management roles also show strong presence, but with a mix of credit scores.\n",
        "\n",
        "- Engineering, Education, and Sales show moderate representation with more balanced score distribution.\n",
        "\n",
        "- Lower counts and a slight skew toward Poor credit are visible in Arts, Agriculture, and Food Services, hinting at financial challenges or limited access.\n",
        "\n",
        "\n",
        "##### 3. Business Impact\n",
        "\n",
        "\n",
        "Positive Impact:\n",
        "\n",
        "- Occupation-specific insights can power risk-tiered credit products (e.g., flexible loans for seasonal sectors like agriculture).\n",
        "\n",
        "- Supports targeted marketing—such as offering premium credit cards to stable sectors like healthcare or law.\n",
        "\n",
        "\n",
        "Risk Flag:\n",
        "\n",
        "- Customers in volatile or underrepresented sectors (like arts, food service) may need custom credit checks, low-limit products, or educational nudges before onboarding.\n",
        "\n",
        "\n",
        "This chart helps build occupation-based segmentation models, improving both credit decisioning and product personalization."
      ]
    },
    {
      "cell_type": "markdown",
      "metadata": {
        "id": "q29F0dvdveiT"
      },
      "source": [
        "#### Chart - 12 **The Relationship Between Credit Inquiries and Credit Score**"
      ]
    },
    {
      "cell_type": "code",
      "execution_count": null,
      "metadata": {
        "id": "o58-TEIhveiU"
      },
      "outputs": [],
      "source": [
        "# Chart - 12\n",
        "fig, ax = plt.subplots(figsize=(14, 8))\n",
        "\n",
        "sns.countplot(\n",
        "    data=df,\n",
        "    x='Num_Credit_Inquiries',\n",
        "    hue='Credit_Score',\n",
        "    ax=ax,\n",
        "    palette='Set2'\n",
        ")\n",
        "\n",
        "# Custom styling directly here\n",
        "ax.set_title('The Relationship Between Credit Inquiries and Credit Score', fontsize=18, fontweight='bold')\n",
        "ax.set_xlabel('Number of Credit Inquiries', fontsize=14, fontweight='bold')\n",
        "ax.set_ylabel('Count', fontsize=14, fontweight='bold')\n",
        "ax.legend(title='Credit Score', title_fontsize=12, fontsize=11)\n",
        "\n",
        "plt.tight_layout()\n",
        "plt.show()"
      ]
    },
    {
      "cell_type": "markdown",
      "metadata": {
        "id": "EXh0U9oCveiU"
      },
      "source": [
        "##### 1. Why did you pick the specific chart?"
      ]
    },
    {
      "cell_type": "markdown",
      "metadata": {
        "id": "eMmPjTByveiU"
      },
      "source": [
        "We used a grouped count plot (vertical bar chart) to analyze how the number of credit inquiries correlates with credit score categories.\n",
        "\n",
        "- This chart type is ideal for showing discrete frequency distributions, where we can see how many individuals made 0, 1, 2, ... credit inquiries.\n",
        "\n",
        "- The hue-based grouping by credit score lets us detect if frequent inquiries are linked to poor credit, which is often assumed but needs validation."
      ]
    },
    {
      "cell_type": "markdown",
      "metadata": {
        "id": "22aHeOlLveiV"
      },
      "source": [
        "##### 2. What is/are the insight(s) found from the chart?"
      ]
    },
    {
      "cell_type": "markdown",
      "metadata": {
        "id": "uPQ8RGwHveiV"
      },
      "source": [
        "- Fewer credit inquiries (0–2) are most common and more likely among Good and Standard credit groups.\n",
        "\n",
        "- As inquiries increase (especially beyond 5), the proportion of Poor credit scores rises, indicating risk.\n",
        "\n",
        "- Interestingly, a small number of Good credit holders still have many inquiries — likely due to responsible rate-shopping or proactive financial planning."
      ]
    },
    {
      "cell_type": "markdown",
      "metadata": {
        "id": "grfUZIvspLDh"
      },
      "source": [
        "## **Multivariate Analysis**"
      ]
    },
    {
      "cell_type": "code",
      "execution_count": null,
      "metadata": {
        "id": "BtMfHYAtpUMF"
      },
      "outputs": [],
      "source": [
        "# Get top 10 loan types\n",
        "top_loan_types = df['Type_of_Loan'].value_counts().nlargest(10).index\n",
        "\n",
        "# Filter data to only include those\n",
        "filtered_df = df[df['Type_of_Loan'].isin(top_loan_types)]\n",
        "\n",
        "# Create a pivot table (heatmap source)\n",
        "loan_credit_heatmap = filtered_df.groupby(['Type_of_Loan', 'Credit_Score']).size().unstack(fill_value=0)\n",
        "\n",
        "# Plot\n",
        "fig, ax = plt.subplots(1, 1, figsize=(18, 10))\n",
        "\n",
        "sns.heatmap(\n",
        "    loan_credit_heatmap,\n",
        "    annot=True,\n",
        "    fmt='d',\n",
        "    cmap='Blues',\n",
        "    ax=ax,\n",
        "    cbar_kws={'label': 'Count'},\n",
        "    linewidths=0.5\n",
        ")\n",
        "\n",
        "# Basic styling\n",
        "ax.set_title('Credit Score Distribution by Loan Type', fontsize=18, fontweight='bold')\n",
        "ax.set_xlabel('Credit Score', fontsize=14, fontweight='bold')\n",
        "ax.set_ylabel('Type of Loan', fontsize=14, fontweight='bold')\n",
        "\n",
        "plt.tight_layout()\n",
        "plt.show()"
      ]
    },
    {
      "cell_type": "markdown",
      "metadata": {
        "id": "IwhIkCmBFOW0"
      },
      "source": [
        "Why Use a Heatmap?\n",
        "- It gives a quick visual snapshot of which loan types attract which credit score groups.\n",
        "- Darker shades = more people in that category.\n",
        "- Makes it easy to spot where risk (poor credit) or opportunity (good credit) lies.\n",
        "\n",
        "Key Insights:\n",
        "- Credit-Builder and Debt Consolidation Loans have many poor credit holders — no surprise, they’re meant to help rebuild credit.\n",
        "- Auto, Mortgage, and Home Equity Loans have a balanced mix — used by both high and low credit scorers.\n",
        "- Personal Loans and Credit Cards are popular among those with Standard and Good credit, likely due to lifestyle or urgent needs.\n",
        "- Student and Payday Loans skew toward lower credit users — reflecting financial strain or early career stages.\n",
        "\n",
        "Business Impact:\n",
        "- Product Strategy: Customize products — e.g., promote Credit-Builder Loans to at-risk customers.\n",
        "- Risk Control: Apply stricter checks or pricing on loans with lots of poor credit users.\n",
        "- Marketing: Use insights to run targeted campaigns, matching the right loan to the right customer."
      ]
    },
    {
      "cell_type": "code",
      "execution_count": null,
      "metadata": {
        "id": "KdzgPjhKpemM"
      },
      "outputs": [],
      "source": [
        "# Select relevant numeric columns\n",
        "corr_data = df[['Age', 'Annual_Income', 'Monthly_Inhand_Salary', 'Num_Bank_Accounts',\n",
        "                     'Num_Credit_Card', 'Interest_Rate', 'Outstanding_Debt',\n",
        "                     'Credit_Utilization_Ratio', 'Credit_History_Age',\n",
        "                     'Total_EMI_per_month', 'Amount_invested_monthly',\n",
        "                     'Monthly_Balance']]\n",
        "\n",
        "# Compute correlation matrix\n",
        "corr_matrix = corr_data.corr()\n",
        "\n",
        "# Plot heatmap\n",
        "fig, ax = plt.subplots(1, 1, figsize=(12, 8))\n",
        "sns.heatmap(\n",
        "    corr_matrix,\n",
        "    annot=True,\n",
        "    cmap='Blues',\n",
        "    vmin=-1,\n",
        "    vmax=1,\n",
        "    linewidths=0.5,\n",
        "    ax=ax,\n",
        "    annot_kws={\"size\": 10}\n",
        ")\n",
        "\n",
        "# Basic styling\n",
        "ax.set_title('Correlation Heatmap of Financial Features', fontsize=16, fontweight='bold')\n",
        "plt.xticks(rotation=45, ha='right')\n",
        "plt.yticks(rotation=0)\n",
        "\n",
        "plt.tight_layout()\n",
        "plt.show()"
      ]
    },
    {
      "cell_type": "markdown",
      "metadata": {
        "id": "eBeeGK-4FOW0"
      },
      "source": [
        "Chart Type: Heatmap\n",
        "\n",
        "Purpose: To explore pairwise linear relationships among key financial variables.\n",
        "\n",
        "Insight:\n",
        "- The strongest positive correlation exists between Monthly Inhand Salary and Annual Income, as expected.\n",
        "- Outstanding Debt shows a moderate correlation with Interest Rate and Total EMI, highlighting debt burden patterns.\n",
        "- Meanwhile, Credit Utilization has a negative correlation with Monthly Balance, suggesting overspending reduces end-of-month liquidity."
      ]
    },
    {
      "cell_type": "markdown",
      "metadata": {
        "id": "0Pt5YIGzoi3s"
      },
      "source": [
        "## **5. Solution to Business Objective**"
      ]
    },
    {
      "cell_type": "markdown",
      "metadata": {
        "id": "mNjNDBoPouna"
      },
      "source": [
        "#### What do you suggest the client to achieve Business Objective ?"
      ]
    },
    {
      "cell_type": "markdown",
      "metadata": {
        "id": "NmrBR-EMoyDb"
      },
      "source": [
        "I recommend that Paisabazaar implement a predictive credit scoring model. This model will use customer financial data to estimate credit scores, helping achieve key business goals:\n",
        "\n",
        "1. Strengthen Credit Risk Management\n",
        "\n",
        "    By predicting how likely a customer is to repay, the model helps reduce loan defaults and manage financial risk more effectively.\n",
        "\n",
        "2. Offer Smarter Product Recommendations\n",
        "\n",
        "    Knowing a customer’s predicted credit score allows you to suggest financial products that best match their profile — improving engagement and conversions.\n",
        "\n",
        "3. Speed Up Loan Approvals\n",
        "\n",
        "    With automated credit assessments, decisions can be made faster, reducing manual work and improving turnaround times.\n",
        "\n",
        "4. Boost Customer Trust and Retention\n",
        "\n",
        "    By giving users personalized, data-driven advice and product offers, Paisabazaar can enhance user satisfaction and build long-term loyalty.\n",
        "\n",
        "The model can be built using machine learning and trained on features like income, debt, payment history, and credit card behavior to deliver reliable and scalable predictions."
      ]
    },
    {
      "cell_type": "markdown",
      "metadata": {
        "id": "gCX9965dhzqZ"
      },
      "source": [
        "# **Conclusion**"
      ]
    },
    {
      "cell_type": "markdown",
      "metadata": {
        "id": "Fjb1IsQkh3yE"
      },
      "source": [
        "Our analysis of customer data has revealed important insights that can help Paisabazaar improve how it assesses creditworthiness and manages financial risk.\n",
        "\n",
        "- **Customer Demographics**: Most customers fall in the 25–45 age range — typically the working population — which is a prime segment for credit products.\n",
        "\n",
        "- **Earning Capacity**: A large portion of the customer base earns a moderate to high income, indicating potential for loan offerings and investment products.\n",
        "\n",
        "- **Credit Score Distribution**: While many customers have good or standard credit scores, there’s a significant number with poor scores, highlighting a need for better risk profiling.\n",
        "\n",
        "- **Financial Behavior**: Most customers show responsible financial habits like balanced debt, regular payments, and steady credit card usage — though some outliers exist.\n",
        "\n",
        "- **Key Influencers**: Factors like age, annual income, credit utilization ratio, and delayed payments play a major role in determining credit scores.\n",
        "\n",
        "- **Interest Rates**: There is considerable variation in interest rates across customers, suggesting that lending terms may not always align with creditworthiness.\n",
        "\n",
        "\n",
        "These findings can help Paisabazaar:\n",
        "\n",
        "- Refine its credit scoring and risk assessment models.\n",
        "\n",
        "- Offer more personalized and suitable financial products.\n",
        "\n",
        "- Focus on specific customer segments for marketing and product development.\n",
        "\n",
        "- Monitor credit trends regularly to adapt to changing market and customer behavior.\n",
        "\n",
        "By acting on these insights, Paisabazaar can strengthen its market position, reduce default risks, and improve overall customer satisfaction."
      ]
    },
    {
      "cell_type": "markdown",
      "metadata": {
        "id": "gIfDvo9L0UH2"
      },
      "source": [
        "### ***Hurrah! You have successfully completed your EDA Capstone Project !!!***"
      ]
    }
  ],
  "metadata": {
    "colab": {
      "collapsed_sections": [
        "F4i6mnnO3F0h",
        "yQaldy8SH6Dl",
        "mDgbUHAGgjLW",
        "HhfV-JJviCcP",
        "nA9Y7ga8ng1Z",
        "dauF4eBmngu3",
        "xRav2srsZF6S",
        "azX1PEddq_20",
        "iyKleWeyq_20",
        "8-UX51ofq_21",
        "w8bcvZxarGfg",
        "jbkhcZqdrGfh",
        "Uw0GT_uHrHcb",
        "qTEiGUKorHcc",
        "1Qw8mtL3rHcd",
        "mwHQVoIQrIPu",
        "Kwy5hImkrIPu",
        "0sjxqkK0rIPv",
        "fY9vrZiOjjx4",
        "y7avNpR9HL5z",
        "Z5yPuW4iHL50",
        "3vIdo55JHL50",
        "IlhlbgNBHL51",
        "oQ-pHCWMHO92",
        "DEMFeE18HO92",
        "MR3eS7xTHO93",
        "JmI1Y4YbHO93",
        "U9jYC4YEydL9",
        "B4XxyvTzHSAZ",
        "Mal1wQlpHSAZ",
        "BgP_e3WlHSAZ",
        "I3aNiIh9fKqZ",
        "hTF1e9PwfKqa",
        "1xrBLU6IfKqa",
        "yiLHMWFSfKqb",
        "NC_X3p0fY2L0",
        "UV0SzAkaZNRQ",
        "YPEH6qLeZNRQ",
        "q29F0dvdveiT",
        "EXh0U9oCveiU",
        "22aHeOlLveiV",
        "grfUZIvspLDh",
        "0Pt5YIGzoi3s",
        "gCX9965dhzqZ",
        "gIfDvo9L0UH2"
      ],
      "private_outputs": true,
      "provenance": []
    },
    "kernelspec": {
      "display_name": "base",
      "language": "python",
      "name": "python3"
    },
    "language_info": {
      "codemirror_mode": {
        "name": "ipython",
        "version": 3
      },
      "file_extension": ".py",
      "mimetype": "text/x-python",
      "name": "python",
      "nbconvert_exporter": "python",
      "pygments_lexer": "ipython3",
      "version": "3.12.7"
    }
  },
  "nbformat": 4,
  "nbformat_minor": 0
}